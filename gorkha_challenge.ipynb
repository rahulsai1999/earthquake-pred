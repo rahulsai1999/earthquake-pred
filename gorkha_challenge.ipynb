{
  "nbformat": 4,
  "nbformat_minor": 0,
  "metadata": {
    "colab": {
      "name": "gorkha_challenge.ipynb",
      "provenance": [],
      "collapsed_sections": [],
      "toc_visible": true,
      "authorship_tag": "ABX9TyPoYbpd7+0lswnyxCGeKNvB",
      "include_colab_link": true
    },
    "kernelspec": {
      "name": "python3",
      "display_name": "Python 3"
    },
    "accelerator": "TPU"
  },
  "cells": [
    {
      "cell_type": "markdown",
      "metadata": {
        "id": "view-in-github",
        "colab_type": "text"
      },
      "source": [
        "<a href=\"https://colab.research.google.com/github/rahulsai1999/earthquake-pred/blob/master/gorkha_challenge.ipynb\" target=\"_parent\"><img src=\"https://colab.research.google.com/assets/colab-badge.svg\" alt=\"Open In Colab\"/></a>"
      ]
    },
    {
      "cell_type": "code",
      "metadata": {
        "colab_type": "code",
        "outputId": "422a8d4b-d161-4331-8f2d-cebc66190a9b",
        "id": "dwXcZzQ7LIx1",
        "colab": {
          "base_uri": "https://localhost:8080/",
          "height": 54
        }
      },
      "source": [
        "from google.colab import drive\n",
        "drive.mount('/content/drive')"
      ],
      "execution_count": 1,
      "outputs": [
        {
          "output_type": "stream",
          "text": [
            "Drive already mounted at /content/drive; to attempt to forcibly remount, call drive.mount(\"/content/drive\", force_remount=True).\n"
          ],
          "name": "stdout"
        }
      ]
    },
    {
      "cell_type": "code",
      "metadata": {
        "id": "a-BlxmnKTd5B",
        "colab_type": "code",
        "colab": {}
      },
      "source": [
        "import numpy as np\n",
        "import pandas as pd\n",
        "import random"
      ],
      "execution_count": 0,
      "outputs": []
    },
    {
      "cell_type": "code",
      "metadata": {
        "id": "UtlMcRuWBZr6",
        "colab_type": "code",
        "colab": {}
      },
      "source": [
        "X=pd.read_csv(\"/content/drive/My Drive/Colab Data/Earthquake/X.csv\")\n",
        "Y=pd.read_csv(\"/content/drive/My Drive/Colab Data/Earthquake/Y.csv\")"
      ],
      "execution_count": 0,
      "outputs": []
    },
    {
      "cell_type": "code",
      "metadata": {
        "id": "7_QAsMRmBhrp",
        "colab_type": "code",
        "colab": {}
      },
      "source": [
        "X=X.iloc[:100000,1:]\n",
        "Y=Y.iloc[:100000,1]"
      ],
      "execution_count": 0,
      "outputs": []
    },
    {
      "cell_type": "code",
      "metadata": {
        "id": "O9DR9dxhCURR",
        "colab_type": "code",
        "colab": {}
      },
      "source": [
        "X=pd.get_dummies(X,columns=['land_surface_condition','foundation_type','roof_type','ground_floor_type','other_floor_type','position','plan_configuration','legal_ownership_status'])"
      ],
      "execution_count": 0,
      "outputs": []
    },
    {
      "cell_type": "code",
      "metadata": {
        "id": "oo8SvuI5F09T",
        "colab_type": "code",
        "colab": {}
      },
      "source": [
        "from sklearn.preprocessing import StandardScaler\n",
        "sc=StandardScaler()\n",
        "X=sc.fit_transform(X)"
      ],
      "execution_count": 0,
      "outputs": []
    },
    {
      "cell_type": "code",
      "metadata": {
        "id": "0yHoSMVAG8Eq",
        "colab_type": "code",
        "colab": {}
      },
      "source": [
        "from sklearn.model_selection import train_test_split\n",
        "X_train,X_test,Y_train,Y_test=train_test_split(X,Y,test_size=0.2,random_state=0)"
      ],
      "execution_count": 0,
      "outputs": []
    },
    {
      "cell_type": "code",
      "metadata": {
        "id": "zA_D2cXgEpSl",
        "colab_type": "code",
        "outputId": "0f3e5480-6915-4365-a1e8-2d795e5e0dfa",
        "colab": {
          "base_uri": "https://localhost:8080/",
          "height": 265
        }
      },
      "source": [
        "from sklearn.ensemble import ExtraTreesClassifier\n",
        "import matplotlib.pyplot as plt\n",
        "model = ExtraTreesClassifier()\n",
        "model.fit(X_train,Y_train)\n",
        "\n",
        "X_train=pd.DataFrame(X_train)\n",
        "feat_importances = pd.Series(model.feature_importances_, index=X_train.columns)\n",
        "\n",
        "f=feat_importances.nlargest(30).index\n",
        "feat_importances.nlargest(20).plot(kind='barh')\n",
        "plt.show()"
      ],
      "execution_count": 8,
      "outputs": [
        {
          "output_type": "display_data",
          "data": {
            "image/png": "[encoded data removed]",
            "text/plain": [
              "<Figure size 432x288 with 1 Axes>"
            ]
          },
          "metadata": {
            "tags": []
          }
        }
      ]
    },
    {
      "cell_type": "code",
      "metadata": {
        "id": "KYWjr3EdFWmT",
        "colab_type": "code",
        "colab": {}
      },
      "source": [
        "f=pd.Series(f)\n",
        "best=X_train[f]\n",
        "X_train=best\n",
        "\n",
        "X_test=pd.DataFrame(X_test)\n",
        "best=X_test[f]\n",
        "X_test=best"
      ],
      "execution_count": 0,
      "outputs": []
    },
    {
      "cell_type": "markdown",
      "metadata": {
        "id": "gAqxOwSSGW1w",
        "colab_type": "text"
      },
      "source": [
        "## Baseline Models"
      ]
    },
    {
      "cell_type": "markdown",
      "metadata": {
        "id": "3jGY-AwdItA0",
        "colab_type": "text"
      },
      "source": [
        "### Decision Tree Classifier"
      ]
    },
    {
      "cell_type": "code",
      "metadata": {
        "id": "FnrwUCBcGu7P",
        "colab_type": "code",
        "colab": {}
      },
      "source": [
        "from sklearn.tree import DecisionTreeClassifier\n",
        "from sklearn.metrics import classification_report\n",
        "dc=DecisionTreeClassifier()"
      ],
      "execution_count": 0,
      "outputs": []
    },
    {
      "cell_type": "code",
      "metadata": {
        "id": "d3Y1B4SSG24C",
        "colab_type": "code",
        "outputId": "001183b1-0d07-4f22-834a-6eb2ab275273",
        "colab": {
          "base_uri": "https://localhost:8080/",
          "height": 119
        }
      },
      "source": [
        "dc.fit(X_train,Y_train)"
      ],
      "execution_count": 11,
      "outputs": [
        {
          "output_type": "execute_result",
          "data": {
            "text/plain": [
              "DecisionTreeClassifier(ccp_alpha=0.0, class_weight=None, criterion='gini',\n",
              "                       max_depth=None, max_features=None, max_leaf_nodes=None,\n",
              "                       min_impurity_decrease=0.0, min_impurity_split=None,\n",
              "                       min_samples_leaf=1, min_samples_split=2,\n",
              "                       min_weight_fraction_leaf=0.0, presort='deprecated',\n",
              "                       random_state=None, splitter='best')"
            ]
          },
          "metadata": {
            "tags": []
          },
          "execution_count": 11
        }
      ]
    },
    {
      "cell_type": "code",
      "metadata": {
        "id": "UiDpB-_KHNaW",
        "colab_type": "code",
        "outputId": "c6e64f65-cab9-4dd8-f403-d28107d03b58",
        "colab": {
          "base_uri": "https://localhost:8080/",
          "height": 204
        }
      },
      "source": [
        "Y_pred=dc.predict(X_test)\n",
        "print(classification_report(Y_test,Y_pred))\n",
        "print(\"Accuracy => %.3f\" %(dc.score(X_test,Y_test)*100))"
      ],
      "execution_count": 12,
      "outputs": [
        {
          "output_type": "stream",
          "text": [
            "              precision    recall  f1-score   support\n",
            "\n",
            "           1       0.44      0.47      0.45      1911\n",
            "           2       0.70      0.68      0.69     11448\n",
            "           3       0.59      0.60      0.59      6641\n",
            "\n",
            "    accuracy                           0.64     20000\n",
            "   macro avg       0.58      0.58      0.58     20000\n",
            "weighted avg       0.64      0.64      0.64     20000\n",
            "\n",
            "Accuracy => 63.555\n"
          ],
          "name": "stdout"
        }
      ]
    },
    {
      "cell_type": "markdown",
      "metadata": {
        "id": "tKEARvaQIqzc",
        "colab_type": "text"
      },
      "source": [
        "### Logistic Regression"
      ]
    },
    {
      "cell_type": "code",
      "metadata": {
        "id": "76dkNlGeI1jo",
        "colab_type": "code",
        "colab": {}
      },
      "source": [
        "from sklearn.linear_model import LogisticRegressionCV\n",
        "lg=LogisticRegressionCV()"
      ],
      "execution_count": 0,
      "outputs": []
    },
    {
      "cell_type": "code",
      "metadata": {
        "colab_type": "code",
        "id": "2_liIUmJK90q",
        "outputId": "dae70e3e-7194-4cb0-c944-bbee843e5ff6",
        "colab": {
          "base_uri": "https://localhost:8080/",
          "height": 102
        }
      },
      "source": [
        "lg.fit(X_train,Y_train)"
      ],
      "execution_count": 14,
      "outputs": [
        {
          "output_type": "execute_result",
          "data": {
            "text/plain": [
              "LogisticRegressionCV(Cs=10, class_weight=None, cv=None, dual=False,\n",
              "                     fit_intercept=True, intercept_scaling=1.0, l1_ratios=None,\n",
              "                     max_iter=100, multi_class='auto', n_jobs=None,\n",
              "                     penalty='l2', random_state=None, refit=True, scoring=None,\n",
              "                     solver='lbfgs', tol=0.0001, verbose=0)"
            ]
          },
          "metadata": {
            "tags": []
          },
          "execution_count": 14
        }
      ]
    },
    {
      "cell_type": "code",
      "metadata": {
        "id": "npFXJhD5I-33",
        "colab_type": "code",
        "outputId": "5ac25d9f-35ef-4aef-f3c5-3dc970a24081",
        "colab": {
          "base_uri": "https://localhost:8080/",
          "height": 204
        }
      },
      "source": [
        "Y_pred=lg.predict(X_test)\n",
        "print(classification_report(Y_test,Y_pred))\n",
        "print(\"Accuracy => %.3f\" %(lg.score(X_test,Y_test)*100))"
      ],
      "execution_count": 15,
      "outputs": [
        {
          "output_type": "stream",
          "text": [
            "              precision    recall  f1-score   support\n",
            "\n",
            "           1       0.54      0.29      0.38      1911\n",
            "           2       0.60      0.88      0.71     11448\n",
            "           3       0.53      0.18      0.27      6641\n",
            "\n",
            "    accuracy                           0.59     20000\n",
            "   macro avg       0.56      0.45      0.45     20000\n",
            "weighted avg       0.57      0.59      0.53     20000\n",
            "\n",
            "Accuracy => 58.820\n"
          ],
          "name": "stdout"
        }
      ]
    },
    {
      "cell_type": "markdown",
      "metadata": {
        "id": "D_7XShoCJv9Y",
        "colab_type": "text"
      },
      "source": [
        "## Deep Learning Classifier"
      ]
    },
    {
      "cell_type": "code",
      "metadata": {
        "id": "AQkZkDUgJ2ZJ",
        "colab_type": "code",
        "outputId": "45e8c8b0-9aee-4058-8761-461332bea2a5",
        "colab": {
          "base_uri": "https://localhost:8080/",
          "height": 97
        }
      },
      "source": [
        "import tensorflow as tf\n",
        "from keras import backend as K\n",
        "from keras.models import Sequential\n",
        "from keras.layers.core import Dense,Activation\n",
        "from keras.utils import np_utils,to_categorical\n",
        "from keras.wrappers.scikit_learn import KerasClassifier\n",
        "from sklearn.model_selection import GridSearchCV\n",
        "import warnings\n",
        "warnings.filterwarnings(\"ignore\")"
      ],
      "execution_count": 16,
      "outputs": [
        {
          "output_type": "display_data",
          "data": {
            "text/html": [
              "<p style=\"color: red;\">\n",
              "The default version of TensorFlow in Colab will soon switch to TensorFlow 2.x.<br>\n",
              "We recommend you <a href=\"https://www.tensorflow.org/guide/migrate\" target=\"_blank\">upgrade</a> now \n",
              "or ensure your notebook will continue to use TensorFlow 1.x via the <code>%tensorflow_version 1.x</code> magic:\n",
              "<a href=\"https://colab.research.google.com/notebooks/tensorflow_version.ipynb\" target=\"_blank\">more info</a>.</p>\n"
            ],
            "text/plain": [
              "<IPython.core.display.HTML object>"
            ]
          },
          "metadata": {
            "tags": []
          }
        },
        {
          "output_type": "stream",
          "text": [
            "Using TensorFlow backend.\n"
          ],
          "name": "stderr"
        }
      ]
    },
    {
      "cell_type": "code",
      "metadata": {
        "id": "Bi6FQwkFJ869",
        "colab_type": "code",
        "colab": {}
      },
      "source": [
        "sess=tf.Session()\n",
        "K.set_session(sess)\n",
        "hidl=8\n",
        "num_ne=128\n",
        "feature_dim=X_train.shape[1]\n",
        "optim=\"Adamax\"\n",
        "activ=\"relu\"\n",
        "kern=\"normal\""
      ],
      "execution_count": 0,
      "outputs": []
    },
    {
      "cell_type": "code",
      "metadata": {
        "id": "4KBUzxJNKJSo",
        "colab_type": "code",
        "colab": {}
      },
      "source": [
        "def create_model(optimizer=optim,activation=activ,kernel_initializer=kern,neurons_num=num_ne,hidden_layers=hidl):\n",
        "  model=Sequential()\n",
        "  model.add(Dense(feature_dim,input_dim=feature_dim,kernel_initializer=kernel_initializer,activation=activation))\n",
        "  for _ in range(0,hidden_layers-1):\n",
        "    model.add(Dense(neurons_num,kernel_initializer=kernel_initializer,activation=activation))\n",
        "    model.add(Dense(4,kernel_initializer='normal',activation='softmax'))\n",
        "    model.compile(optimizer=optimizer,loss='sparse_categorical_crossentropy',metrics=[\"accuracy\"])\n",
        "    return model"
      ],
      "execution_count": 0,
      "outputs": []
    },
    {
      "cell_type": "code",
      "metadata": {
        "id": "2MFaiY5LMwxt",
        "colab_type": "code",
        "colab": {}
      },
      "source": [
        "def print_best(grid_result):\n",
        "  print(\"Best: %f using %s\" % (grid_result.best_score_, grid_result.best_params_))\n",
        "  means = grid_result.cv_results_['mean_test_score']\n",
        "  stds = grid_result.cv_results_['std_test_score']\n",
        "  params = grid_result.cv_results_['params']\n",
        "  for mean, stdev, param in zip(means, stds, params):\n",
        "    print(\"%f (%f) with: %r\" % (mean, stdev, param))"
      ],
      "execution_count": 0,
      "outputs": []
    },
    {
      "cell_type": "markdown",
      "metadata": {
        "id": "J-N7udKxKarm",
        "colab_type": "text"
      },
      "source": [
        "### Tuning Batch Size and Epochs"
      ]
    },
    {
      "cell_type": "code",
      "metadata": {
        "id": "bnVTIx5tKKIG",
        "colab_type": "code",
        "outputId": "a9fde580-2fad-44b0-c81b-331c34ae2600",
        "colab": {
          "base_uri": "https://localhost:8080/",
          "height": 547
        }
      },
      "source": [
        "model=KerasClassifier(build_fn=create_model,verbose=0)\n",
        "batch_size=[20,40]\n",
        "epochs=[10,50]\n",
        "param_grid = dict(batch_size=batch_size, epochs=epochs)\n",
        "grid=GridSearchCV(estimator=model,param_grid=param_grid,n_jobs=-1,cv=3)\n",
        "grid_result = grid.fit(X_train, Y_train)\n",
        "\n",
        "epochs=grid_result.best_params_['epochs']\n",
        "batch=grid_result.best_params_['batch_size']\n",
        "\n",
        "print_best(grid_result)"
      ],
      "execution_count": 20,
      "outputs": [
        {
          "output_type": "stream",
          "text": [
            "WARNING:tensorflow:From /usr/local/lib/python3.6/dist-packages/keras/backend/tensorflow_backend.py:66: The name tf.get_default_graph is deprecated. Please use tf.compat.v1.get_default_graph instead.\n",
            "\n",
            "WARNING:tensorflow:From /usr/local/lib/python3.6/dist-packages/keras/backend/tensorflow_backend.py:541: The name tf.placeholder is deprecated. Please use tf.compat.v1.placeholder instead.\n",
            "\n",
            "WARNING:tensorflow:From /usr/local/lib/python3.6/dist-packages/keras/backend/tensorflow_backend.py:4409: The name tf.random_normal is deprecated. Please use tf.random.normal instead.\n",
            "\n",
            "WARNING:tensorflow:From /usr/local/lib/python3.6/dist-packages/keras/optimizers.py:793: The name tf.train.Optimizer is deprecated. Please use tf.compat.v1.train.Optimizer instead.\n",
            "\n",
            "WARNING:tensorflow:From /usr/local/lib/python3.6/dist-packages/keras/backend/tensorflow_backend.py:3622: The name tf.log is deprecated. Please use tf.math.log instead.\n",
            "\n",
            "WARNING:tensorflow:From /usr/local/lib/python3.6/dist-packages/tensorflow_core/python/ops/math_grad.py:1424: where (from tensorflow.python.ops.array_ops) is deprecated and will be removed in a future version.\n",
            "Instructions for updating:\n",
            "Use tf.where in 2.0, which has the same broadcast rule as np.where\n",
            "WARNING:tensorflow:From /usr/local/lib/python3.6/dist-packages/keras/backend/tensorflow_backend.py:1033: The name tf.assign_add is deprecated. Please use tf.compat.v1.assign_add instead.\n",
            "\n",
            "WARNING:tensorflow:From /usr/local/lib/python3.6/dist-packages/keras/backend/tensorflow_backend.py:1020: The name tf.assign is deprecated. Please use tf.compat.v1.assign instead.\n",
            "\n",
            "WARNING:tensorflow:From /usr/local/lib/python3.6/dist-packages/keras/backend/tensorflow_backend.py:190: The name tf.get_default_session is deprecated. Please use tf.compat.v1.get_default_session instead.\n",
            "\n",
            "WARNING:tensorflow:From /usr/local/lib/python3.6/dist-packages/keras/backend/tensorflow_backend.py:207: The name tf.global_variables is deprecated. Please use tf.compat.v1.global_variables instead.\n",
            "\n",
            "WARNING:tensorflow:From /usr/local/lib/python3.6/dist-packages/keras/backend/tensorflow_backend.py:216: The name tf.is_variable_initialized is deprecated. Please use tf.compat.v1.is_variable_initialized instead.\n",
            "\n",
            "WARNING:tensorflow:From /usr/local/lib/python3.6/dist-packages/keras/backend/tensorflow_backend.py:223: The name tf.variables_initializer is deprecated. Please use tf.compat.v1.variables_initializer instead.\n",
            "\n",
            "Best: 0.661775 using {'batch_size': 20, 'epochs': 50}\n",
            "0.648175 (0.005329) with: {'batch_size': 20, 'epochs': 10}\n",
            "0.661775 (0.003222) with: {'batch_size': 20, 'epochs': 50}\n",
            "0.639463 (0.006983) with: {'batch_size': 40, 'epochs': 10}\n",
            "0.656075 (0.003948) with: {'batch_size': 40, 'epochs': 50}\n"
          ],
          "name": "stdout"
        }
      ]
    },
    {
      "cell_type": "markdown",
      "metadata": {
        "id": "RDVjlVI8KgBZ",
        "colab_type": "text"
      },
      "source": [
        "### Tuning Optimizer"
      ]
    },
    {
      "cell_type": "code",
      "metadata": {
        "id": "s4dIjVTgLr3r",
        "colab_type": "code",
        "outputId": "6312741d-ed78-4c42-f01d-57442bbef0a8",
        "colab": {
          "base_uri": "https://localhost:8080/",
          "height": 119
        }
      },
      "source": [
        "model = KerasClassifier(build_fn=create_model, epochs=epochs, batch_size=batch, verbose=0)\n",
        "optimizer = ['SGD', 'Adagrad', 'Adam', 'Adamax', 'Nadam']\n",
        "param_grid = dict(optimizer=optimizer)\n",
        "grid = GridSearchCV(estimator=model, param_grid=param_grid, n_jobs=-1, cv=3)\n",
        "grid_result = grid.fit(X_train, Y_train)\n",
        "\n",
        "optim=grid_result.best_params_['optimizer']\n",
        "\n",
        "print_best(grid_result)"
      ],
      "execution_count": 21,
      "outputs": [
        {
          "output_type": "stream",
          "text": [
            "Best: 0.659163 using {'optimizer': 'Adamax'}\n",
            "0.576362 (0.034135) with: {'optimizer': 'SGD'}\n",
            "0.632713 (0.002084) with: {'optimizer': 'Adagrad'}\n",
            "0.655325 (0.000910) with: {'optimizer': 'Adam'}\n",
            "0.659163 (0.001882) with: {'optimizer': 'Adamax'}\n",
            "0.650000 (0.004458) with: {'optimizer': 'Nadam'}\n"
          ],
          "name": "stdout"
        }
      ]
    },
    {
      "cell_type": "markdown",
      "metadata": {
        "id": "FMi_s2NILwal",
        "colab_type": "text"
      },
      "source": [
        "### Tuning Activation Function"
      ]
    },
    {
      "cell_type": "code",
      "metadata": {
        "id": "sjEPNF9_MCBo",
        "colab_type": "code",
        "outputId": "3dfacd6b-820b-4883-a196-17fefe04ed8b",
        "colab": {
          "base_uri": "https://localhost:8080/",
          "height": 153
        }
      },
      "source": [
        "model = KerasClassifier(build_fn=create_model, epochs=epochs, batch_size=batch, verbose=0)\n",
        "activation = ['softplus', 'softsign', 'relu', 'tanh', 'sigmoid', 'hard_sigmoid', 'linear']\n",
        "param_grid = dict(activation=activation)\n",
        "grid = GridSearchCV(estimator=model, param_grid=param_grid, n_jobs=-1, cv=3)\n",
        "grid_result = grid.fit(X_train, Y_train)\n",
        "\n",
        "activ=grid_result.best_params_['activation']\n",
        "\n",
        "print_best(grid_result)"
      ],
      "execution_count": 22,
      "outputs": [
        {
          "output_type": "stream",
          "text": [
            "Best: 0.660863 using {'activation': 'tanh'}\n",
            "0.654100 (0.003974) with: {'activation': 'softplus'}\n",
            "0.660275 (0.001119) with: {'activation': 'softsign'}\n",
            "0.658838 (0.005332) with: {'activation': 'relu'}\n",
            "0.660863 (0.001261) with: {'activation': 'tanh'}\n",
            "0.639825 (0.008458) with: {'activation': 'sigmoid'}\n",
            "0.655863 (0.003203) with: {'activation': 'hard_sigmoid'}\n",
            "0.579588 (0.002868) with: {'activation': 'linear'}\n"
          ],
          "name": "stdout"
        }
      ]
    },
    {
      "cell_type": "markdown",
      "metadata": {
        "id": "m7qnfMTKXCZj",
        "colab_type": "text"
      },
      "source": [
        "### Tuning Kernel Initializer"
      ]
    },
    {
      "cell_type": "code",
      "metadata": {
        "id": "6AeeQHI2XHFM",
        "colab_type": "code",
        "outputId": "49b54611-e929-4f40-c575-a1825f7b479b",
        "colab": {
          "base_uri": "https://localhost:8080/",
          "height": 170
        }
      },
      "source": [
        "model = KerasClassifier(build_fn=create_model, epochs=epochs, batch_size=batch, verbose=0)\n",
        "kernel_initializer = ['uniform', 'lecun_uniform', 'normal', 'zero', 'glorot_normal', 'glorot_uniform', 'he_normal', 'he_uniform']\n",
        "param_grid = dict(kernel_initializer=kernel_initializer)\n",
        "grid = GridSearchCV(estimator=model, param_grid=param_grid, n_jobs=-1, cv=3)\n",
        "grid_result = grid.fit(X_train, Y_train)\n",
        "\n",
        "kern=grid_result.best_params_['kernel_initializer']\n",
        "\n",
        "print_best(grid_result)"
      ],
      "execution_count": 23,
      "outputs": [
        {
          "output_type": "stream",
          "text": [
            "Best: 0.658688 using {'kernel_initializer': 'normal'}\n",
            "0.657000 (0.001101) with: {'kernel_initializer': 'uniform'}\n",
            "0.650350 (0.002274) with: {'kernel_initializer': 'lecun_uniform'}\n",
            "0.658688 (0.001236) with: {'kernel_initializer': 'normal'}\n",
            "0.566775 (0.002986) with: {'kernel_initializer': 'zero'}\n",
            "0.654338 (0.002586) with: {'kernel_initializer': 'glorot_normal'}\n",
            "0.649950 (0.001574) with: {'kernel_initializer': 'glorot_uniform'}\n",
            "0.645000 (0.004980) with: {'kernel_initializer': 'he_normal'}\n",
            "0.643763 (0.006206) with: {'kernel_initializer': 'he_uniform'}\n"
          ],
          "name": "stdout"
        }
      ]
    },
    {
      "cell_type": "markdown",
      "metadata": {
        "id": "bIkMlo15MQgv",
        "colab_type": "text"
      },
      "source": [
        "### Tuning Number of Neurons"
      ]
    },
    {
      "cell_type": "code",
      "metadata": {
        "id": "8_7BmOhTMQxL",
        "colab_type": "code",
        "outputId": "d2544249-a794-46a6-a0a6-0c6d3977b804",
        "colab": {
          "base_uri": "https://localhost:8080/",
          "height": 102
        }
      },
      "source": [
        "model = KerasClassifier(build_fn=create_model, epochs=epochs, batch_size=batch, verbose=0)\n",
        "neurons_num = [32, 64, 128, 256]\n",
        "param_grid = dict(neurons_num=neurons_num)\n",
        "grid = GridSearchCV(estimator=model, param_grid=param_grid, n_jobs=-1, cv=3)\n",
        "grid_result = grid.fit(X_train, Y_train)\n",
        "\n",
        "num_ne=grid_result.best_params_['neurons_num']\n",
        "\n",
        "print_best(grid_result)"
      ],
      "execution_count": 24,
      "outputs": [
        {
          "output_type": "stream",
          "text": [
            "Best: 0.660938 using {'neurons_num': 128}\n",
            "0.657938 (0.002214) with: {'neurons_num': 32}\n",
            "0.657575 (0.004129) with: {'neurons_num': 64}\n",
            "0.660938 (0.002828) with: {'neurons_num': 128}\n",
            "0.656687 (0.003365) with: {'neurons_num': 256}\n"
          ],
          "name": "stdout"
        }
      ]
    },
    {
      "cell_type": "markdown",
      "metadata": {
        "colab_type": "text",
        "id": "fGQ8goImWRYh"
      },
      "source": [
        "### Tuning Number of Hidden Layers"
      ]
    },
    {
      "cell_type": "code",
      "metadata": {
        "colab_type": "code",
        "id": "jlxp3LzPWL3H",
        "colab": {
          "base_uri": "https://localhost:8080/",
          "height": 136
        },
        "outputId": "041221a0-ef9d-402e-e536-9102597ea915"
      },
      "source": [
        "model = KerasClassifier(build_fn=create_model, epochs=epochs, batch_size=batch, verbose=0)\n",
        "hidden_layers = [2,4,8,10,12,14]\n",
        "param_grid = dict(hidden_layers=hidden_layers)\n",
        "grid = GridSearchCV(estimator=model, param_grid=param_grid, n_jobs=-1, cv=3)\n",
        "grid_result = grid.fit(X_train, Y_train)\n",
        "\n",
        "hidl=grid_result.best_params_['hidden_layers']\n",
        "\n",
        "print_best(grid_result)"
      ],
      "execution_count": 25,
      "outputs": [
        {
          "output_type": "stream",
          "text": [
            "Best: 0.659925 using {'hidden_layers': 12}\n",
            "0.653362 (0.005286) with: {'hidden_layers': 2}\n",
            "0.655637 (0.000375) with: {'hidden_layers': 4}\n",
            "0.658525 (0.002320) with: {'hidden_layers': 8}\n",
            "0.657825 (0.000195) with: {'hidden_layers': 10}\n",
            "0.659925 (0.001904) with: {'hidden_layers': 12}\n",
            "0.658363 (0.003940) with: {'hidden_layers': 14}\n"
          ],
          "name": "stdout"
        }
      ]
    },
    {
      "cell_type": "markdown",
      "metadata": {
        "id": "9K-FDvrfWdte",
        "colab_type": "text"
      },
      "source": [
        "### Using the Best Model"
      ]
    },
    {
      "cell_type": "code",
      "metadata": {
        "id": "7qdlmWL4Wlrz",
        "colab_type": "code",
        "colab": {}
      },
      "source": [
        "model=create_model(optim,activ,kern,num_ne,hidl)"
      ],
      "execution_count": 0,
      "outputs": []
    },
    {
      "cell_type": "code",
      "metadata": {
        "id": "nPH0fhljXU96",
        "colab_type": "code",
        "colab": {
          "base_uri": "https://localhost:8080/",
          "height": 34
        },
        "outputId": "76d1f723-0327-4fd4-8871-eeaf8e2eaa13"
      },
      "source": [
        "model.fit(X_train,Y_train,epochs=epochs,batch_size=batch,verbose=0,validation_split=0.15)"
      ],
      "execution_count": 27,
      "outputs": [
        {
          "output_type": "execute_result",
          "data": {
            "text/plain": [
              "<keras.callbacks.History at 0x7f63555c6400>"
            ]
          },
          "metadata": {
            "tags": []
          },
          "execution_count": 27
        }
      ]
    },
    {
      "cell_type": "code",
      "metadata": {
        "id": "dKXOymcYXvSg",
        "colab_type": "code",
        "colab": {
          "base_uri": "https://localhost:8080/",
          "height": 51
        },
        "outputId": "c8279315-24f1-46fa-dc56-ede03514fa01"
      },
      "source": [
        "scores=model.evaluate(X_test,Y_test,verbose=2)\n",
        "print(\"\\nTest %s: %.2f%%\" % (model.metrics_names[1], scores[1]*100))"
      ],
      "execution_count": 28,
      "outputs": [
        {
          "output_type": "stream",
          "text": [
            "\n",
            "Test acc: 66.46%\n"
          ],
          "name": "stdout"
        }
      ]
    },
    {
      "cell_type": "code",
      "metadata": {
        "id": "aUfctBBjYdHu",
        "colab_type": "code",
        "colab": {}
      },
      "source": [
        "X_validate=pd.read_csv(\"/content/drive/My Drive/Colab Data/Earthquake/X_test.csv\")\n",
        "\n",
        "X_id=X_validate.iloc[:,0]\n",
        "X_actual=X_validate.iloc[:,1:]"
      ],
      "execution_count": 0,
      "outputs": []
    },
    {
      "cell_type": "code",
      "metadata": {
        "id": "ruEDqlANbKUt",
        "colab_type": "code",
        "colab": {}
      },
      "source": [
        "X_actual=pd.get_dummies(X_actual,columns=['land_surface_condition','foundation_type','roof_type','ground_floor_type','other_floor_type','position','plan_configuration','legal_ownership_status'])"
      ],
      "execution_count": 0,
      "outputs": []
    },
    {
      "cell_type": "code",
      "metadata": {
        "id": "qrUrT3--bChT",
        "colab_type": "code",
        "colab": {}
      },
      "source": [
        "X_actual=sc.fit_transform(X_actual)"
      ],
      "execution_count": 0,
      "outputs": []
    },
    {
      "cell_type": "code",
      "metadata": {
        "id": "3B5Y6cL9X7vs",
        "colab_type": "code",
        "colab": {}
      },
      "source": [
        "X_actual=pd.DataFrame(X_actual)\n",
        "best=X_actual[f]\n",
        "X_actual=best"
      ],
      "execution_count": 0,
      "outputs": []
    },
    {
      "cell_type": "code",
      "metadata": {
        "id": "8ASiLAp8aP1Y",
        "colab_type": "code",
        "colab": {}
      },
      "source": [
        "Y_pred=model.predict_classes(X_actual)"
      ],
      "execution_count": 0,
      "outputs": []
    },
    {
      "cell_type": "code",
      "metadata": {
        "id": "P7rB2QwZbimd",
        "colab_type": "code",
        "colab": {}
      },
      "source": [
        "Y_final=pd.concat([X_id,pd.Series(Y_pred)],axis=1)"
      ],
      "execution_count": 0,
      "outputs": []
    },
    {
      "cell_type": "code",
      "metadata": {
        "id": "ymrtwOaIcvrl",
        "colab_type": "code",
        "colab": {}
      },
      "source": [
        "Y_final.to_csv('final.csv',header=True,index=False)"
      ],
      "execution_count": 0,
      "outputs": []
    }
  ]
}