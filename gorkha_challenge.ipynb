{
  "nbformat": 4,
  "nbformat_minor": 0,
  "metadata": {
    "colab": {
      "name": "suez_challenge.ipynb",
      "provenance": [],
      "collapsed_sections": [],
      "toc_visible": true
    },
    "kernelspec": {
      "name": "python3",
      "display_name": "Python 3"
    },
    "accelerator": "TPU"
  },
  "cells": [
    {
      "cell_type": "code",
      "metadata": {
        "colab_type": "code",
        "outputId": "832f9d04-59fc-43d2-8caf-16b4c42622c1",
        "id": "dwXcZzQ7LIx1",
        "colab": {
          "base_uri": "https://localhost:8080/",
          "height": 34
        }
      },
      "source": [
        "from google.colab import drive\n",
        "drive.mount('/content/drive')"
      ],
      "execution_count": 42,
      "outputs": [
        {
          "output_type": "stream",
          "text": [
            "Drive already mounted at /content/drive; to attempt to forcibly remount, call drive.mount(\"/content/drive\", force_remount=True).\n"
          ],
          "name": "stdout"
        }
      ]
    },
    {
      "cell_type": "code",
      "metadata": {
        "id": "a-BlxmnKTd5B",
        "colab_type": "code",
        "colab": {}
      },
      "source": [
        "import numpy as np\n",
        "import pandas as pd\n",
        "import random"
      ],
      "execution_count": 0,
      "outputs": []
    },
    {
      "cell_type": "code",
      "metadata": {
        "id": "UtlMcRuWBZr6",
        "colab_type": "code",
        "colab": {}
      },
      "source": [
        "X=pd.read_csv(\"/content/drive/My Drive/Colab Data/Earthquake/X.csv\")\n",
        "Y=pd.read_csv(\"/content/drive/My Drive/Colab Data/Earthquake/Y.csv\")"
      ],
      "execution_count": 0,
      "outputs": []
    },
    {
      "cell_type": "code",
      "metadata": {
        "id": "7_QAsMRmBhrp",
        "colab_type": "code",
        "colab": {}
      },
      "source": [
        "X=X.iloc[:20000,1:]\n",
        "Y=Y.iloc[:20000,1]"
      ],
      "execution_count": 0,
      "outputs": []
    },
    {
      "cell_type": "code",
      "metadata": {
        "id": "O9DR9dxhCURR",
        "colab_type": "code",
        "colab": {}
      },
      "source": [
        "X=pd.get_dummies(X,columns=['land_surface_condition','foundation_type','roof_type','ground_floor_type','other_floor_type','position','plan_configuration','legal_ownership_status'])"
      ],
      "execution_count": 0,
      "outputs": []
    },
    {
      "cell_type": "code",
      "metadata": {
        "id": "oo8SvuI5F09T",
        "colab_type": "code",
        "colab": {}
      },
      "source": [
        "from sklearn.preprocessing import StandardScaler\n",
        "sc=StandardScaler()\n",
        "X=sc.fit_transform(X)"
      ],
      "execution_count": 0,
      "outputs": []
    },
    {
      "cell_type": "code",
      "metadata": {
        "id": "0yHoSMVAG8Eq",
        "colab_type": "code",
        "colab": {}
      },
      "source": [
        "from sklearn.model_selection import train_test_split\n",
        "X_train,X_test,Y_train,Y_test=train_test_split(X,Y,test_size=0.2,random_state=0)"
      ],
      "execution_count": 0,
      "outputs": []
    },
    {
      "cell_type": "markdown",
      "metadata": {
        "id": "gAqxOwSSGW1w",
        "colab_type": "text"
      },
      "source": [
        "## Baseline Models"
      ]
    },
    {
      "cell_type": "markdown",
      "metadata": {
        "id": "3jGY-AwdItA0",
        "colab_type": "text"
      },
      "source": [
        "### Decision Tree Classifier"
      ]
    },
    {
      "cell_type": "code",
      "metadata": {
        "id": "FnrwUCBcGu7P",
        "colab_type": "code",
        "colab": {}
      },
      "source": [
        "from sklearn.tree import DecisionTreeClassifier\n",
        "from sklearn.metrics import classification_report\n",
        "dc=DecisionTreeClassifier()"
      ],
      "execution_count": 0,
      "outputs": []
    },
    {
      "cell_type": "code",
      "metadata": {
        "id": "d3Y1B4SSG24C",
        "colab_type": "code",
        "outputId": "cf7f97c2-ae48-4ed0-ab15-66fee5b5c02a",
        "colab": {
          "base_uri": "https://localhost:8080/",
          "height": 119
        }
      },
      "source": [
        "dc.fit(X_train,Y_train)"
      ],
      "execution_count": 68,
      "outputs": [
        {
          "output_type": "execute_result",
          "data": {
            "text/plain": [
              "DecisionTreeClassifier(ccp_alpha=0.0, class_weight=None, criterion='gini',\n",
              "                       max_depth=None, max_features=None, max_leaf_nodes=None,\n",
              "                       min_impurity_decrease=0.0, min_impurity_split=None,\n",
              "                       min_samples_leaf=1, min_samples_split=2,\n",
              "                       min_weight_fraction_leaf=0.0, presort='deprecated',\n",
              "                       random_state=None, splitter='best')"
            ]
          },
          "metadata": {
            "tags": []
          },
          "execution_count": 68
        }
      ]
    },
    {
      "cell_type": "code",
      "metadata": {
        "id": "UiDpB-_KHNaW",
        "colab_type": "code",
        "outputId": "0780821b-1d22-40a7-acc8-b224c6f65057",
        "colab": {
          "base_uri": "https://localhost:8080/",
          "height": 204
        }
      },
      "source": [
        "Y_pred=dc.predict(X_test)\n",
        "print(classification_report(Y_test,Y_pred))\n",
        "print(\"Accuracy => %.3f\" %(dc.score(X_test,Y_test)*100))"
      ],
      "execution_count": 69,
      "outputs": [
        {
          "output_type": "stream",
          "text": [
            "              precision    recall  f1-score   support\n",
            "\n",
            "           1       0.39      0.40      0.40       389\n",
            "           2       0.67      0.66      0.66      2266\n",
            "           3       0.56      0.58      0.57      1345\n",
            "\n",
            "    accuracy                           0.61      4000\n",
            "   macro avg       0.54      0.55      0.54      4000\n",
            "weighted avg       0.61      0.61      0.61      4000\n",
            "\n",
            "Accuracy => 60.650\n"
          ],
          "name": "stdout"
        }
      ]
    },
    {
      "cell_type": "markdown",
      "metadata": {
        "id": "tKEARvaQIqzc",
        "colab_type": "text"
      },
      "source": [
        "### Logistic Regression"
      ]
    },
    {
      "cell_type": "code",
      "metadata": {
        "id": "76dkNlGeI1jo",
        "colab_type": "code",
        "colab": {}
      },
      "source": [
        "from sklearn.linear_model import LogisticRegressionCV\n",
        "lg=LogisticRegressionCV()"
      ],
      "execution_count": 0,
      "outputs": []
    },
    {
      "cell_type": "code",
      "metadata": {
        "colab_type": "code",
        "id": "2_liIUmJK90q",
        "outputId": "b926c2fe-19d1-493b-b350-75d49609808d",
        "colab": {
          "base_uri": "https://localhost:8080/",
          "height": 102
        }
      },
      "source": [
        "lg.fit(X_train,Y_train)"
      ],
      "execution_count": 71,
      "outputs": [
        {
          "output_type": "execute_result",
          "data": {
            "text/plain": [
              "LogisticRegressionCV(Cs=10, class_weight=None, cv=None, dual=False,\n",
              "                     fit_intercept=True, intercept_scaling=1.0, l1_ratios=None,\n",
              "                     max_iter=100, multi_class='auto', n_jobs=None,\n",
              "                     penalty='l2', random_state=None, refit=True, scoring=None,\n",
              "                     solver='lbfgs', tol=0.0001, verbose=0)"
            ]
          },
          "metadata": {
            "tags": []
          },
          "execution_count": 71
        }
      ]
    },
    {
      "cell_type": "code",
      "metadata": {
        "id": "npFXJhD5I-33",
        "colab_type": "code",
        "outputId": "020bff02-5b59-451b-f68b-542962e5bae1",
        "colab": {
          "base_uri": "https://localhost:8080/",
          "height": 204
        }
      },
      "source": [
        "Y_pred=lg.predict(X_test)\n",
        "print(classification_report(Y_test,Y_pred))\n",
        "print(\"Accuracy => %.3f\" %(lg.score(X_test,Y_test)*100))"
      ],
      "execution_count": 72,
      "outputs": [
        {
          "output_type": "stream",
          "text": [
            "              precision    recall  f1-score   support\n",
            "\n",
            "           1       0.57      0.31      0.40       389\n",
            "           2       0.60      0.85      0.70      2266\n",
            "           3       0.53      0.22      0.31      1345\n",
            "\n",
            "    accuracy                           0.59      4000\n",
            "   macro avg       0.56      0.46      0.47      4000\n",
            "weighted avg       0.57      0.59      0.54      4000\n",
            "\n",
            "Accuracy => 58.650\n"
          ],
          "name": "stdout"
        }
      ]
    },
    {
      "cell_type": "markdown",
      "metadata": {
        "id": "D_7XShoCJv9Y",
        "colab_type": "text"
      },
      "source": [
        "## Deep Learning Classifier"
      ]
    },
    {
      "cell_type": "code",
      "metadata": {
        "id": "AQkZkDUgJ2ZJ",
        "colab_type": "code",
        "colab": {}
      },
      "source": [
        "import tensorflow as tf\n",
        "from keras import backend as K\n",
        "from keras.models import Sequential\n",
        "from keras.layers.core import Dense,Activation\n",
        "from keras.utils import np_utils,to_categorical\n",
        "from keras.wrappers.scikit_learn import KerasClassifier\n",
        "from sklearn.model_selection import GridSearchCV\n",
        "import warnings\n",
        "warnings.filterwarnings(\"ignore\")"
      ],
      "execution_count": 0,
      "outputs": []
    },
    {
      "cell_type": "code",
      "metadata": {
        "id": "Bi6FQwkFJ869",
        "colab_type": "code",
        "colab": {}
      },
      "source": [
        "sess=tf.Session()\n",
        "K.set_session(sess)\n",
        "hidden_layers=8\n",
        "neurons_num=128\n",
        "feature_dim=X_train.shape[1]"
      ],
      "execution_count": 0,
      "outputs": []
    },
    {
      "cell_type": "code",
      "metadata": {
        "id": "4KBUzxJNKJSo",
        "colab_type": "code",
        "colab": {}
      },
      "source": [
        "def create_model(optimizer='Adamax',activation='relu',kernel_initializer='normal',neurons_num=128,hidden_layers=8):\n",
        "  model=Sequential()\n",
        "  model.add(Dense(feature_dim,input_dim=feature_dim,kernel_initializer=kernel_initializer,activation=activation))\n",
        "  for _ in range(0,hidden_layers-1):\n",
        "    model.add(Dense(neurons_num,kernel_initializer=kernel_initializer,activation=activation))\n",
        "    model.add(Dense(4,kernel_initializer='normal',activation='softmax'))\n",
        "    model.compile(optimizer=optimizer,loss='sparse_categorical_crossentropy',metrics=[\"accuracy\"])\n",
        "    return model"
      ],
      "execution_count": 0,
      "outputs": []
    },
    {
      "cell_type": "code",
      "metadata": {
        "id": "2MFaiY5LMwxt",
        "colab_type": "code",
        "colab": {}
      },
      "source": [
        "def print_best(grid_result):\n",
        "  print(\"Best: %f using %s\" % (grid_result.best_score_, grid_result.best_params_))\n",
        "  means = grid_result.cv_results_['mean_test_score']\n",
        "  stds = grid_result.cv_results_['std_test_score']\n",
        "  params = grid_result.cv_results_['params']\n",
        "  for mean, stdev, param in zip(means, stds, params):\n",
        "    print(\"%f (%f) with: %r\" % (mean, stdev, param))"
      ],
      "execution_count": 0,
      "outputs": []
    },
    {
      "cell_type": "markdown",
      "metadata": {
        "id": "J-N7udKxKarm",
        "colab_type": "text"
      },
      "source": [
        "### Tuning Batch Size and Epochs"
      ]
    },
    {
      "cell_type": "code",
      "metadata": {
        "id": "bnVTIx5tKKIG",
        "colab_type": "code",
        "outputId": "25e15ba1-9984-47d2-a392-c42d2b966cb8",
        "colab": {
          "base_uri": "https://localhost:8080/",
          "height": 819
        }
      },
      "source": [
        "model=KerasClassifier(build_fn=create_model,verbose=0)\n",
        "batch_size=[10,20,40,60,100]\n",
        "epochs=[10,25,50,100]\n",
        "param_grid = dict(batch_size=batch_size, epochs=epochs)\n",
        "grid=GridSearchCV(estimator=model,param_grid=param_grid,n_jobs=-1,cv=3)\n",
        "grid_result = grid.fit(X_train, Y_train)\n",
        "\n",
        "epochs=grid_result.best_params_['epochs']\n",
        "batch=grid_result.best_params_['batch_size']\n",
        "\n",
        "print_best(grid_result)"
      ],
      "execution_count": 77,
      "outputs": [
        {
          "output_type": "stream",
          "text": [
            "WARNING:tensorflow:From /usr/local/lib/python3.6/dist-packages/keras/backend/tensorflow_backend.py:66: The name tf.get_default_graph is deprecated. Please use tf.compat.v1.get_default_graph instead.\n",
            "\n",
            "WARNING:tensorflow:From /usr/local/lib/python3.6/dist-packages/keras/backend/tensorflow_backend.py:541: The name tf.placeholder is deprecated. Please use tf.compat.v1.placeholder instead.\n",
            "\n",
            "WARNING:tensorflow:From /usr/local/lib/python3.6/dist-packages/keras/backend/tensorflow_backend.py:4409: The name tf.random_normal is deprecated. Please use tf.random.normal instead.\n",
            "\n",
            "WARNING:tensorflow:From /usr/local/lib/python3.6/dist-packages/keras/optimizers.py:793: The name tf.train.Optimizer is deprecated. Please use tf.compat.v1.train.Optimizer instead.\n",
            "\n",
            "WARNING:tensorflow:From /usr/local/lib/python3.6/dist-packages/keras/backend/tensorflow_backend.py:3622: The name tf.log is deprecated. Please use tf.math.log instead.\n",
            "\n",
            "WARNING:tensorflow:From /usr/local/lib/python3.6/dist-packages/tensorflow_core/python/ops/math_grad.py:1424: where (from tensorflow.python.ops.array_ops) is deprecated and will be removed in a future version.\n",
            "Instructions for updating:\n",
            "Use tf.where in 2.0, which has the same broadcast rule as np.where\n",
            "WARNING:tensorflow:From /usr/local/lib/python3.6/dist-packages/keras/backend/tensorflow_backend.py:1033: The name tf.assign_add is deprecated. Please use tf.compat.v1.assign_add instead.\n",
            "\n",
            "WARNING:tensorflow:From /usr/local/lib/python3.6/dist-packages/keras/backend/tensorflow_backend.py:1020: The name tf.assign is deprecated. Please use tf.compat.v1.assign instead.\n",
            "\n",
            "WARNING:tensorflow:From /usr/local/lib/python3.6/dist-packages/keras/backend/tensorflow_backend.py:190: The name tf.get_default_session is deprecated. Please use tf.compat.v1.get_default_session instead.\n",
            "\n",
            "WARNING:tensorflow:From /usr/local/lib/python3.6/dist-packages/keras/backend/tensorflow_backend.py:207: The name tf.global_variables is deprecated. Please use tf.compat.v1.global_variables instead.\n",
            "\n",
            "WARNING:tensorflow:From /usr/local/lib/python3.6/dist-packages/keras/backend/tensorflow_backend.py:216: The name tf.is_variable_initialized is deprecated. Please use tf.compat.v1.is_variable_initialized instead.\n",
            "\n",
            "WARNING:tensorflow:From /usr/local/lib/python3.6/dist-packages/keras/backend/tensorflow_backend.py:223: The name tf.variables_initializer is deprecated. Please use tf.compat.v1.variables_initializer instead.\n",
            "\n",
            "Best: 0.611750 using {'batch_size': 40, 'epochs': 10}\n",
            "0.610000 (0.004930) with: {'batch_size': 10, 'epochs': 10}\n",
            "0.610250 (0.002389) with: {'batch_size': 10, 'epochs': 25}\n",
            "0.601437 (0.008599) with: {'batch_size': 10, 'epochs': 50}\n",
            "0.583312 (0.010717) with: {'batch_size': 10, 'epochs': 100}\n",
            "0.610437 (0.005426) with: {'batch_size': 20, 'epochs': 10}\n",
            "0.610125 (0.001806) with: {'batch_size': 20, 'epochs': 25}\n",
            "0.594187 (0.004779) with: {'batch_size': 20, 'epochs': 50}\n",
            "0.581062 (0.011298) with: {'batch_size': 20, 'epochs': 100}\n",
            "0.611750 (0.002131) with: {'batch_size': 40, 'epochs': 10}\n",
            "0.600375 (0.002074) with: {'batch_size': 40, 'epochs': 25}\n",
            "0.602750 (0.001265) with: {'batch_size': 40, 'epochs': 50}\n",
            "0.578875 (0.001645) with: {'batch_size': 40, 'epochs': 100}\n",
            "0.607874 (0.006257) with: {'batch_size': 60, 'epochs': 10}\n",
            "0.602375 (0.005462) with: {'batch_size': 60, 'epochs': 25}\n",
            "0.597500 (0.006809) with: {'batch_size': 60, 'epochs': 50}\n",
            "0.587312 (0.009313) with: {'batch_size': 60, 'epochs': 100}\n",
            "0.611062 (0.004710) with: {'batch_size': 100, 'epochs': 10}\n",
            "0.599625 (0.007612) with: {'batch_size': 100, 'epochs': 25}\n",
            "0.601375 (0.005185) with: {'batch_size': 100, 'epochs': 50}\n",
            "0.582563 (0.009710) with: {'batch_size': 100, 'epochs': 100}\n"
          ],
          "name": "stdout"
        }
      ]
    },
    {
      "cell_type": "markdown",
      "metadata": {
        "id": "RDVjlVI8KgBZ",
        "colab_type": "text"
      },
      "source": [
        "### Tuning Optimizer"
      ]
    },
    {
      "cell_type": "code",
      "metadata": {
        "id": "s4dIjVTgLr3r",
        "colab_type": "code",
        "colab": {
          "base_uri": "https://localhost:8080/",
          "height": 153
        },
        "outputId": "fa4cd3c5-7678-4214-8dbb-90a410926cb0"
      },
      "source": [
        "model = KerasClassifier(build_fn=create_model, epochs=epochs, batch_size=batch, verbose=0)\n",
        "optimizer = ['SGD', 'RMSprop', 'Adagrad', 'Adadelta', 'Adam', 'Adamax', 'Nadam']\n",
        "param_grid = dict(optimizer=optimizer)\n",
        "grid = GridSearchCV(estimator=model, param_grid=param_grid, n_jobs=-1, cv=3)\n",
        "grid_result = grid.fit(X_train, Y_train)\n",
        "\n",
        "optim=grid_result.best_params_['optimizer']\n",
        "\n",
        "print_best(grid_result)"
      ],
      "execution_count": 78,
      "outputs": [
        {
          "output_type": "stream",
          "text": [
            "Best: 0.609562 using {'optimizer': 'Adamax'}\n",
            "0.583375 (0.000382) with: {'optimizer': 'SGD'}\n",
            "0.602125 (0.004203) with: {'optimizer': 'RMSprop'}\n",
            "0.600375 (0.006591) with: {'optimizer': 'Adagrad'}\n",
            "0.575375 (0.004877) with: {'optimizer': 'Adadelta'}\n",
            "0.604937 (0.010399) with: {'optimizer': 'Adam'}\n",
            "0.609562 (0.003272) with: {'optimizer': 'Adamax'}\n",
            "0.561755 (0.060145) with: {'optimizer': 'Nadam'}\n"
          ],
          "name": "stdout"
        }
      ]
    },
    {
      "cell_type": "markdown",
      "metadata": {
        "id": "FMi_s2NILwal",
        "colab_type": "text"
      },
      "source": [
        "### Tuning Activation Function"
      ]
    },
    {
      "cell_type": "code",
      "metadata": {
        "id": "sjEPNF9_MCBo",
        "colab_type": "code",
        "colab": {
          "base_uri": "https://localhost:8080/",
          "height": 170
        },
        "outputId": "bfca2a37-0512-4190-c60f-35da19654287"
      },
      "source": [
        "model = KerasClassifier(build_fn=create_model, epochs=epochs, batch_size=batch, verbose=0)\n",
        "activation = ['softmax', 'softplus', 'softsign', 'relu', 'tanh', 'sigmoid', 'hard_sigmoid', 'linear']\n",
        "param_grid = dict(activation=activation)\n",
        "grid = GridSearchCV(estimator=model, param_grid=param_grid, n_jobs=-1, cv=3)\n",
        "grid_result = grid.fit(X_train, Y_train)\n",
        "\n",
        "activ=grid_result.best_params_['activation']\n",
        "\n",
        "print_best(grid_result)"
      ],
      "execution_count": 79,
      "outputs": [
        {
          "output_type": "stream",
          "text": [
            "Best: 0.606937 using {'activation': 'relu'}\n",
            "0.566563 (0.006023) with: {'activation': 'softmax'}\n",
            "0.584687 (0.008150) with: {'activation': 'softplus'}\n",
            "0.602687 (0.004413) with: {'activation': 'softsign'}\n",
            "0.606937 (0.008144) with: {'activation': 'relu'}\n",
            "0.593562 (0.004918) with: {'activation': 'tanh'}\n",
            "0.588312 (0.008559) with: {'activation': 'sigmoid'}\n",
            "0.588812 (0.004237) with: {'activation': 'hard_sigmoid'}\n",
            "0.582437 (0.002494) with: {'activation': 'linear'}\n"
          ],
          "name": "stdout"
        }
      ]
    },
    {
      "cell_type": "markdown",
      "metadata": {
        "id": "m7qnfMTKXCZj",
        "colab_type": "text"
      },
      "source": [
        "### Tuning Kernel Initializer"
      ]
    },
    {
      "cell_type": "code",
      "metadata": {
        "id": "6AeeQHI2XHFM",
        "colab_type": "code",
        "colab": {
          "base_uri": "https://localhost:8080/",
          "height": 204
        },
        "outputId": "66c84f35-bf0f-46dd-ba9c-11c7907f130c"
      },
      "source": [
        "model = KerasClassifier(build_fn=create_model, epochs=epochs, batch_size=batch, verbose=0)\n",
        "kernel_initializer = ['uniform', 'lecun_uniform', 'normal', 'zero', 'glorot_normal', 'glorot_uniform', 'he_normal', 'he_uniform']\n",
        "param_grid = dict(kernel_initializer=kernel_initializer)\n",
        "grid = GridSearchCV(estimator=model, param_grid=param_grid, n_jobs=-1, cv=3)\n",
        "grid_result = grid.fit(X_train, Y_train)\n",
        "\n",
        "kern=grid_result.best_params_['kernel_initializer']\n",
        "\n",
        "print_best(grid_result)"
      ],
      "execution_count": 80,
      "outputs": [
        {
          "output_type": "stream",
          "text": [
            "WARNING:tensorflow:From /usr/local/lib/python3.6/dist-packages/keras/backend/tensorflow_backend.py:4432: The name tf.random_uniform is deprecated. Please use tf.random.uniform instead.\n",
            "\n",
            "Best: 0.610062 using {'kernel_initializer': 'uniform'}\n",
            "0.610062 (0.001371) with: {'kernel_initializer': 'uniform'}\n",
            "0.608937 (0.008264) with: {'kernel_initializer': 'lecun_uniform'}\n",
            "0.609062 (0.008806) with: {'kernel_initializer': 'normal'}\n",
            "0.566563 (0.006023) with: {'kernel_initializer': 'zero'}\n",
            "0.600937 (0.007468) with: {'kernel_initializer': 'glorot_normal'}\n",
            "0.604000 (0.002136) with: {'kernel_initializer': 'glorot_uniform'}\n",
            "0.593937 (0.009202) with: {'kernel_initializer': 'he_normal'}\n",
            "0.601750 (0.001645) with: {'kernel_initializer': 'he_uniform'}\n"
          ],
          "name": "stdout"
        }
      ]
    },
    {
      "cell_type": "markdown",
      "metadata": {
        "id": "bIkMlo15MQgv",
        "colab_type": "text"
      },
      "source": [
        "### Tuning Number of Neurons"
      ]
    },
    {
      "cell_type": "code",
      "metadata": {
        "id": "8_7BmOhTMQxL",
        "colab_type": "code",
        "colab": {
          "base_uri": "https://localhost:8080/",
          "height": 187
        },
        "outputId": "3de723e4-6b70-4f0f-b6b7-4ae35ee88b56"
      },
      "source": [
        "model = KerasClassifier(build_fn=create_model, epochs=epochs, batch_size=batch, verbose=0)\n",
        "neurons_num = [1, 2, 4, 8, 16, 32, 64, 128, 256]\n",
        "param_grid = dict(neurons_num=neurons_num)\n",
        "grid = GridSearchCV(estimator=model, param_grid=param_grid, n_jobs=-1, cv=3)\n",
        "grid_result = grid.fit(X_train, Y_train)\n",
        "\n",
        "num_ne=grid_result.best_params_['neurons_num']\n",
        "\n",
        "print_best(grid_result)"
      ],
      "execution_count": 81,
      "outputs": [
        {
          "output_type": "stream",
          "text": [
            "Best: 0.609187 using {'neurons_num': 32}\n",
            "0.570625 (0.006131) with: {'neurons_num': 1}\n",
            "0.581375 (0.011557) with: {'neurons_num': 2}\n",
            "0.603000 (0.000955) with: {'neurons_num': 4}\n",
            "0.603437 (0.002741) with: {'neurons_num': 8}\n",
            "0.601063 (0.008013) with: {'neurons_num': 16}\n",
            "0.609187 (0.004185) with: {'neurons_num': 32}\n",
            "0.607125 (0.005526) with: {'neurons_num': 64}\n",
            "0.604500 (0.002568) with: {'neurons_num': 128}\n",
            "0.602749 (0.009227) with: {'neurons_num': 256}\n"
          ],
          "name": "stdout"
        }
      ]
    },
    {
      "cell_type": "markdown",
      "metadata": {
        "colab_type": "text",
        "id": "fGQ8goImWRYh"
      },
      "source": [
        "### Tuning Number of Hidden Layers"
      ]
    },
    {
      "cell_type": "code",
      "metadata": {
        "colab_type": "code",
        "id": "jlxp3LzPWL3H",
        "colab": {
          "base_uri": "https://localhost:8080/",
          "height": 187
        },
        "outputId": "69ccbd2d-ce01-4edb-9d48-92d7c8169060"
      },
      "source": [
        "model = KerasClassifier(build_fn=create_model, epochs=epochs, batch_size=batch, verbose=0)\n",
        "hidden_layers = [2,4,8,10,12,14,16,18,20]\n",
        "param_grid = dict(hidden_layers=hidden_layers)\n",
        "grid = GridSearchCV(estimator=model, param_grid=param_grid, n_jobs=-1, cv=3)\n",
        "grid_result = grid.fit(X_train, Y_train)\n",
        "\n",
        "hidl=grid_result.best_params_['hidden_layers']\n",
        "\n",
        "print_best(grid_result)"
      ],
      "execution_count": 82,
      "outputs": [
        {
          "output_type": "stream",
          "text": [
            "Best: 0.613250 using {'hidden_layers': 12}\n",
            "0.607625 (0.005158) with: {'hidden_layers': 2}\n",
            "0.602875 (0.003194) with: {'hidden_layers': 4}\n",
            "0.610250 (0.004976) with: {'hidden_layers': 8}\n",
            "0.606874 (0.008083) with: {'hidden_layers': 10}\n",
            "0.613250 (0.003533) with: {'hidden_layers': 12}\n",
            "0.604499 (0.006847) with: {'hidden_layers': 14}\n",
            "0.610187 (0.005748) with: {'hidden_layers': 16}\n",
            "0.604062 (0.005822) with: {'hidden_layers': 18}\n",
            "0.609375 (0.003483) with: {'hidden_layers': 20}\n"
          ],
          "name": "stdout"
        }
      ]
    },
    {
      "cell_type": "markdown",
      "metadata": {
        "id": "9K-FDvrfWdte",
        "colab_type": "text"
      },
      "source": [
        "### Using the Best Model"
      ]
    },
    {
      "cell_type": "code",
      "metadata": {
        "id": "7qdlmWL4Wlrz",
        "colab_type": "code",
        "colab": {}
      },
      "source": [
        "model=create_model(optim,activ,kern,num_ne,hidl)"
      ],
      "execution_count": 0,
      "outputs": []
    },
    {
      "cell_type": "code",
      "metadata": {
        "id": "nPH0fhljXU96",
        "colab_type": "code",
        "colab": {
          "base_uri": "https://localhost:8080/",
          "height": 34
        },
        "outputId": "87cb1aed-b24d-496d-abf6-0d8ac37669e4"
      },
      "source": [
        "model.fit(X_train,Y_train,epochs=epochs,batch_size=batch,verbose=0,validation_split=0.15)"
      ],
      "execution_count": 84,
      "outputs": [
        {
          "output_type": "execute_result",
          "data": {
            "text/plain": [
              "<keras.callbacks.History at 0x7f5def970da0>"
            ]
          },
          "metadata": {
            "tags": []
          },
          "execution_count": 84
        }
      ]
    },
    {
      "cell_type": "code",
      "metadata": {
        "id": "dKXOymcYXvSg",
        "colab_type": "code",
        "colab": {
          "base_uri": "https://localhost:8080/",
          "height": 51
        },
        "outputId": "a5dfe50a-a057-40fc-a934-bb13b4ab416a"
      },
      "source": [
        "scores=model.evaluate(X_test,Y_test,verbose=2)\n",
        "print(\"\\nTest %s: %.2f%%\" % (model.metrics_names[1], scores[1]*100))"
      ],
      "execution_count": 85,
      "outputs": [
        {
          "output_type": "stream",
          "text": [
            "\n",
            "Test acc: 61.25%\n"
          ],
          "name": "stdout"
        }
      ]
    },
    {
      "cell_type": "code",
      "metadata": {
        "id": "aUfctBBjYdHu",
        "colab_type": "code",
        "colab": {}
      },
      "source": [
        "X_validate=pd.read_csv(\"/content/drive/My Drive/Colab Data/Earthquake/X_test.csv\")\n",
        "X_id=X_validate.iloc[:,0]\n",
        "X_actual=X_validate.iloc[:,1:]"
      ],
      "execution_count": 0,
      "outputs": []
    },
    {
      "cell_type": "code",
      "metadata": {
        "id": "ruEDqlANbKUt",
        "colab_type": "code",
        "colab": {}
      },
      "source": [
        "X_actual=pd.get_dummies(X_actual,columns=['land_surface_condition','foundation_type','roof_type','ground_floor_type','other_floor_type','position','plan_configuration','legal_ownership_status'])"
      ],
      "execution_count": 0,
      "outputs": []
    },
    {
      "cell_type": "code",
      "metadata": {
        "id": "qrUrT3--bChT",
        "colab_type": "code",
        "colab": {}
      },
      "source": [
        "X_actual=sc.fit_transform(X_actual)"
      ],
      "execution_count": 0,
      "outputs": []
    },
    {
      "cell_type": "code",
      "metadata": {
        "id": "8ASiLAp8aP1Y",
        "colab_type": "code",
        "colab": {}
      },
      "source": [
        "Y_pred=model.predict_classes(X_actual)"
      ],
      "execution_count": 0,
      "outputs": []
    },
    {
      "cell_type": "code",
      "metadata": {
        "id": "P7rB2QwZbimd",
        "colab_type": "code",
        "colab": {}
      },
      "source": [
        "Y_final=pd.concat([X_id,pd.Series(Y_pred)],axis=1)"
      ],
      "execution_count": 0,
      "outputs": []
    },
    {
      "cell_type": "code",
      "metadata": {
        "id": "ymrtwOaIcvrl",
        "colab_type": "code",
        "colab": {}
      },
      "source": [
        "Y_final.to_csv('final.csv',header=True,index=False)"
      ],
      "execution_count": 0,
      "outputs": []
    }
  ]
}